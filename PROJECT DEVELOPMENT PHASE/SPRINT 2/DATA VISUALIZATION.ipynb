{
 "cells": [
  {
   "cell_type": "markdown",
   "metadata": {
    "id": "QErMHld_bTwH"
   },
   "source": [
    "Analytics for Hospitals' Health-Care Data \n",
    "DATA VISUALIZATION \n",
    "Team ID : PNT2022TMID04542"
   ]
  },
  {
   "cell_type": "code",
   "execution_count": 1,
   "metadata": {
    "id": "4fThuIznYO_8"
   },
   "outputs": [],
   "source": [
    "import numpy as np\n",
    "import pandas as pd\n",
    "import seaborn as sns\n",
    "sns.set(color_codes=True)\n",
    "from matplotlib import pyplot as plt"
   ]
  },
  {
   "cell_type": "code",
   "execution_count": null,
   "metadata": {
    "id": "JV7BEiRzY6W2"
   },
   "outputs": [],
   "source": [
    "data = pd.read_csv(\"/content/train_data.csv\")"
   ]
  },
  {
   "cell_type": "code",
   "execution_count": null,
   "metadata": {
    "colab": {
     "base_uri": "https://localhost:8080/",
     "height": 409
    },
    "id": "gV0H01zPY_5j",
    "outputId": "b9b7b6f3-f836-4716-be52-047f4db1d9dc"
   },
   "outputs": [],
   "source": [
    "data. head()"
   ]
  },
  {
   "cell_type": "code",
   "execution_count": 4,
   "metadata": {
    "colab": {
     "base_uri": "https://localhost:8080/"
    },
    "id": "rptNZNWUZAxe",
    "outputId": "feea9e26-edc1-4dde-e40c-2e9cc764affb"
   },
   "outputs": [
    {
     "name": "stdout",
     "output_type": "stream",
     "text": [
      "<class 'pandas.core.frame.DataFrame'>\n",
      "RangeIndex: 74988 entries, 0 to 74987\n",
      "Data columns (total 18 columns):\n",
      " #   Column                             Non-Null Count  Dtype  \n",
      "---  ------                             --------------  -----  \n",
      " 0   case_id                            74988 non-null  int64  \n",
      " 1   Hospital_code                      74988 non-null  int64  \n",
      " 2   Hospital_type_code                 74988 non-null  object \n",
      " 3   City_Code_Hospital                 74988 non-null  int64  \n",
      " 4   Hospital_region_code               74988 non-null  object \n",
      " 5   Available Extra Rooms in Hospital  74988 non-null  int64  \n",
      " 6   Department                         74988 non-null  object \n",
      " 7   Ward_Type                          74988 non-null  object \n",
      " 8   Ward_Facility_Code                 74988 non-null  object \n",
      " 9   Bed Grade                          74973 non-null  float64\n",
      " 10  patientid                          74988 non-null  int64  \n",
      " 11  City_Code_Patient                  74221 non-null  float64\n",
      " 12  Type of Admission                  74988 non-null  object \n",
      " 13  Severity of Illness                74988 non-null  object \n",
      " 14  Visitors with Patient              74988 non-null  int64  \n",
      " 15  Age                                74988 non-null  object \n",
      " 16  Admission_Deposit                  74988 non-null  float64\n",
      " 17  Stay                               74988 non-null  object \n",
      "dtypes: float64(3), int64(6), object(9)\n",
      "memory usage: 10.3+ MB\n"
     ]
    }
   ],
   "source": [
    "data.info()"
   ]
  },
  {
   "cell_type": "code",
   "execution_count": null,
   "metadata": {
    "colab": {
     "base_uri": "https://localhost:8080/",
     "height": 359
    },
    "id": "5jXNNughZDud",
    "outputId": "f8a9c1d7-0cd2-4cb2-c9f4-e983ac5795eb"
   },
   "outputs": [],
   "source": [
    "sns.barplot(data['City_Code_Hospital'], data['City_Code_Patient'])"
   ]
  },
  {
   "cell_type": "code",
   "execution_count": null,
   "metadata": {
    "colab": {
     "base_uri": "https://localhost:8080/",
     "height": 357
    },
    "id": "-eVg3e-JZHn5",
    "outputId": "352c2a65-e4eb-4fd5-f2fb-b5b574eb2c5c"
   },
   "outputs": [],
   "source": [
    "sns.stripplot(data['Department'], data['Available Extra Rooms in Hospital'])"
   ]
  },
  {
   "cell_type": "code",
   "execution_count": null,
   "metadata": {
    "colab": {
     "base_uri": "https://localhost:8080/",
     "height": 357
    },
    "id": "aqbkvUcpZOAZ",
    "outputId": "e186adea-5e18-4432-9d71-bb7faefb007a"
   },
   "outputs": [],
   "source": [
    "sns.scatterplot(data['Ward_Type'], data['Available Extra Rooms in Hospital'])"
   ]
  },
  {
   "cell_type": "code",
   "execution_count": null,
   "metadata": {
    "colab": {
     "base_uri": "https://localhost:8080/",
     "height": 465
    },
    "id": "k0ejliy1ZRZL",
    "outputId": "51ac5afa-0706-4dfc-8cdc-b181f8bbac62"
   },
   "outputs": [],
   "source": [
    "sns.heatmap(data.corr(),annot=True)"
   ]
  },
  {
   "cell_type": "code",
   "execution_count": null,
   "metadata": {
    "colab": {
     "base_uri": "https://localhost:8080/",
     "height": 509
    },
    "id": "GFEN3lSGZVoq",
    "outputId": "76512910-f3c3-4325-f009-0306e5400998"
   },
   "outputs": [],
   "source": [
    "sns.jointplot(data['Severity of Illness'], data['Age'])"
   ]
  },
  {
   "cell_type": "code",
   "execution_count": null,
   "metadata": {
    "colab": {
     "base_uri": "https://localhost:8080/",
     "height": 357
    },
    "id": "Bs9iB-35ZdCI",
    "outputId": "926e9f8e-d9f6-498a-c3ba-b48bec80e8cb"
   },
   "outputs": [],
   "source": [
    "sns.barplot(data['Department'], data['Bed Grade'])"
   ]
  },
  {
   "cell_type": "code",
   "execution_count": null,
   "metadata": {
    "id": "ox9qj5K7ZjAc"
   },
   "outputs": [],
   "source": [
    "sns.pairplot(data,hue=\"Admission_Deposit\")#multivariate"
   ]
  }
 ],
 "metadata": {
  "colab": {
   "collapsed_sections": [],
   "provenance": []
  },
  "kernelspec": {
   "display_name": "Python 3 (ipykernel)",
   "language": "python",
   "name": "python3"
  },
  "language_info": {
   "codemirror_mode": {
    "name": "ipython",
    "version": 3
   },
   "file_extension": ".py",
   "mimetype": "text/x-python",
   "name": "python",
   "nbconvert_exporter": "python",
   "pygments_lexer": "ipython3",
   "version": "3.10.2"
  }
 },
 "nbformat": 4,
 "nbformat_minor": 1
}
